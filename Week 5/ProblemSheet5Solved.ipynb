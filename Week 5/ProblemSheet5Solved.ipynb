{
 "cells": [
  {
   "cell_type": "markdown",
   "id": "d02e5edc",
   "metadata": {},
   "source": [
    "# Problem Sheet 5"
   ]
  },
  {
   "cell_type": "markdown",
   "id": "efdf1878",
   "metadata": {},
   "source": [
    "## Task (a) (Warm-up): sequential optimisation for eigenvalues\n",
    "Given a symmetric matrix $A=A^\\top \\in \\mathbb{R}^{n \\times n}$ and suppose the first eigenvalue $\\lambda_{\\max}(A)=\\lambda_1(A)$ and eigenvector $\\mathbf{u}_{\\max}\\in\\mathbb{R}^n$, $\\|\\mathbf{u}_{\\max}\\|_2=1$ are known.\n",
    "\n",
    "- Prove that the second eigenvalue $\\lambda_2(A) \\le \\lambda_1(A)$ can be found as\n",
    "$$\n",
    "\\lambda_2(A) = \\max_{\\mathbf{x} \\in \\mathbb{R}^n, \\|\\mathbf{x}\\|_2=1, \\langle \\mathbf{u}_{\\max}, \\mathbf{x} \\rangle = 0}\\langle \\mathbf{x}, A \\mathbf{x} \\rangle,\n",
    "$$\n",
    "and a maximizer \n",
    "$$\n",
    "\\mathbf{x}_* = \\arg\\max_{\\mathbf{x} \\in \\mathbb{R}^n, \\|\\mathbf{x}\\|_2=1, \\langle \\mathbf{u}_{\\max}, \\mathbf{x} \\rangle = 0}\\langle \\mathbf{x}, A \\mathbf{x} \\rangle\n",
    "$$\n",
    "is the corresponding eigenvector.\n",
    "\n",
    "- Suggest how to implement the constraints $\\|\\mathbf{x}\\|_2=1, \\langle \\mathbf{u}_{\\max}, \\mathbf{x} \\rangle = 0$ in practice."
   ]
  },
  {
   "cell_type": "markdown",
   "id": "3709d37e",
   "metadata": {},
   "source": [
    "## Solution:\n",
    "Define \n",
    "$$\n",
    "U_2 = \\begin{bmatrix}\\mathbf{u}_{\\max} & \\mathbf{x}\\end{bmatrix},\n",
    "$$\n",
    "such that $U_2^\\top U_2 = I$. This requires\n",
    "$$\n",
    "U_2^\\top U_2 = \\begin{bmatrix}\\mathbf{u}_{\\max}^\\top \\\\ \\mathbf{x}^\\top\\end{bmatrix}\\begin{bmatrix}\\mathbf{u}_{\\max} & \\mathbf{x}\\end{bmatrix} = \\begin{bmatrix}1 & \\mathbf{u}_{\\max}^\\top \\mathbf{x} \\\\ \\mathbf{x}^\\top \\mathbf{u}_{\\max} & \\|\\mathbf{x}\\|_2^2\\end{bmatrix} = \\begin{bmatrix}1 & 0 \\\\ 0 & 1\\end{bmatrix},\n",
    "$$\n",
    "so we get $\\mathbf{u}_{\\max}^\\top \\mathbf{x} = \\langle \\mathbf{u}_{\\max}, \\mathbf{x} \\rangle = 0$, and $\\|\\mathbf{x}\\|_2=1$. Now,\n",
    "$$\n",
    "U_2^\\top A U_2 = \\begin{bmatrix}\\mathbf{u}_{\\max}^\\top \\\\ \\mathbf{x}^\\top\\end{bmatrix} \\begin{bmatrix}\\lambda_{\\max}(A) \\mathbf{u}_{\\max} & A \\mathbf{x}\\end{bmatrix} = \\begin{bmatrix}\\lambda_{\\max}(A) & \\lambda_{\\max}(A) \\mathbf{u}_{\\max}^\\top \\mathbf{x} \\\\ \\mathbf{x}^\\top \\mathbf{u}_{\\max} & \\langle \\mathbf{x}, A \\mathbf{x} \\rangle\\end{bmatrix}\n",
    "$$\n",
    "where in the first row we used that $\\mathbf{u}_{\\max}^\\top A = (A^\\top \\mathbf{u}_{\\max})^\\top = \\lambda_{\\max}(A) \\mathbf{u}_{\\max}^\\top$ and $\\mathbf{u}_{\\max}^\\top \\mathbf{u}_{\\max}=1$.\n",
    "Thus,\n",
    "$$\n",
    "\\mathrm{trace}(U_2^\\top A U_2) = \\lambda_{\\max}(A) + \\langle \\mathbf{x}, A \\mathbf{x} \\rangle.\n",
    "$$\n",
    "Therefore, \n",
    "$$\n",
    "\\max_{U_2^\\top U_2 = I} \\mathrm{trace}(U_2^\\top A U_2) = \\lambda_{\\max}(A) + \\max_{\\mathbf{x} \\in \\mathbb{R}^n, \\|\\mathbf{x}\\|_2=1, \\langle \\mathbf{u}_{\\max}, \\mathbf{x} \\rangle = 0}\\langle \\mathbf{x}, A \\mathbf{x} \\rangle,\n",
    "$$\n",
    "and thus solving the maximization problem in question realises the maximization of the trace after Theorem 3.13. The value of $\\langle \\mathbf{x}_*, A \\mathbf{x}_* \\rangle$ is the second eigenvalue, and $\\mathbf{x}_*$ (the second column of $U_2$) is the second eigenvector.\n",
    "\n",
    "For the second part, let $\\mathbf{x} = (x_1,\\ldots,x_n)$, so we have one constraint $\\sum_{i=1}^n x_i u_{\\max,i} = 0.$\n",
    "Let $i_* = \\arg\\max_{i=1,\\ldots,n} |u_{\\max,i}|$. Note that since $\\|\\mathbf{u}_{\\max}\\|_2 = 1$, $u_{\\max,i_*} \\neq 0$ always. So we can express\n",
    "$$\n",
    "x_{i_*} = -\\frac{1}{u_{\\max,i_*}} \\sum_{i=1,i \\neq i_*}^n x_i u_{\\max,i}\n",
    "$$\n",
    "in terms of other elements of $x_i$. For the norm equality, we have\n",
    "$$\n",
    "\\sum_{i=1,i\\neq i_*}^{n} x_i^2 + \\frac{1}{u_{\\max,i_*}^2} \\left(\\sum_{i=1,i \\neq i_*}^n x_i u_{\\max,i}\\right)^2 = 1.\n",
    "$$\n",
    "Pick any $j_* \\neq i_*$ and solve the previous equation as a quadratic equation on $x_{j_*}$.\n",
    "Finally, plug $x_{i_*},x_{j_*}$ into $\\langle \\mathbf{x}, A\\mathbf{x}\\rangle$ and optimise it as a function of the remaining elements of $\\mathbf{x}$."
   ]
  },
  {
   "cell_type": "markdown",
   "id": "b28abd24",
   "metadata": {},
   "source": [
    "## Task (b): Principal Component Analysis\n",
    "Consider a dataset $\\mathbf{X} = \\{\\mathbf{x}_1, \\mathbf{x}_2\\}$, where\n",
    "$$\n",
    "\\mathbf{x}_1 = \\begin{bmatrix}2 \\\\ 1\\end{bmatrix}, \\qquad \\mathbf{x}_2 = \\begin{bmatrix}1 \\\\ 2\\end{bmatrix}.\n",
    "$$\n",
    "- Calculate the PCA matrix $A = \\frac{1}{m}\\sum_{i=1}^{m} \\mathbf{x}_i \\mathbf{x}_i^\\top$.\n",
    "- Calculate the principal component for $r=1$, that is, a vector $\\mathbf{u}\\in\\mathbb{R}^2$, $\\|\\mathbf{u}\\|_2=1$, corresponding to the maximal eigenvalue of $A$.\n",
    "\n",
    "_Hint: Consider $\\mathbf{u} = (v, \\sqrt{1-v^2})^\\top$, $-1\\le v \\le 1$, and solve the variational characterisation problem for $\\lambda_{\\max}(A)$ with respect to $v$._"
   ]
  },
  {
   "cell_type": "markdown",
   "id": "f24b4984",
   "metadata": {},
   "source": [
    "## Solution:\n",
    "\n",
    "$$\n",
    "A = \\frac{1}{2} \\left( \\begin{bmatrix}2 \\\\ 1\\end{bmatrix} \\begin{bmatrix}2 & 1\\end{bmatrix} + \\begin{bmatrix}1 \\\\ 2\\end{bmatrix} \\begin{bmatrix}1 & 2\\end{bmatrix} \\right) = \\frac{1}{2} \\begin{bmatrix}4 & 2 \\\\ 2 & 1 \\end{bmatrix} + \\frac{1}{2} \\begin{bmatrix}1 & 2 \\\\ 2 & 4 \\end{bmatrix} = \\begin{bmatrix}5/2 & 2 \\\\ 2 & 5/2\\end{bmatrix}\n",
    "$$\n",
    "\n",
    "$$\n",
    "\\langle \\mathbf{u}, A \\mathbf{u} \\rangle = \\begin{bmatrix}v, \\sqrt{1-v^2}\\end{bmatrix} \\cdot \\begin{bmatrix} 2.5v+2\\sqrt{1-v^2}\\\\ 2v+2.5\\sqrt{1-v^2}\\end{bmatrix} = 2.5v^2 + 4v\\sqrt{1-v^2} + 2.5(1-v^2)\n",
    "$$\n",
    "$$\n",
    "0 = \\frac{d \\langle \\mathbf{u}, A \\mathbf{u} \\rangle}{dv} = 5v + 4\\sqrt{1-v^2} - \\frac{4v^2}{\\sqrt{1-v^2}} - 5v\n",
    "$$\n",
    "Multiplying by $\\sqrt{1-v^2}$ and dividing by $4$, we obtain\n",
    "$$\n",
    "1-v^2 = v^2\n",
    "$$\n",
    "$$\n",
    "v^2 = 1/2\n",
    "$$\n",
    "Thus,\n",
    "$$\n",
    "\\mathbf{u} = \\begin{bmatrix}\\,1/\\sqrt{2}\\, \\\\ \\,1/\\sqrt{2}\\,\\end{bmatrix}\n",
    "$$"
   ]
  },
  {
   "cell_type": "markdown",
   "id": "78baff4d",
   "metadata": {},
   "source": [
    "## Task (c): VC-dimension of the halfspaces classifier (lower bound)\n",
    "Consider the halfspaces prediction rule in the homogeneous form,\n",
    "$$\n",
    "h_{\\boldsymbol\\theta}(\\mathbf{x}) = \\mathrm{sign}(\\langle \\boldsymbol\\theta, \\mathbf{x}\\rangle) \\in \\mathcal{H}_n^{hs},\n",
    "$$\n",
    "where $\\mathbf{x} = \\begin{bmatrix}1\\\\ \\mathbf{\\hat x}\\end{bmatrix}$, $\\mathbf{\\hat x} \\in \\mathbb{R}^n$, $\\boldsymbol\\theta \\in \\mathbb{R}^{n+1}.$\n",
    "Consider a dataset \n",
    "$$\n",
    "\\mathbf{X} = \\begin{bmatrix}\\mathbf{x}_1 & \\cdots & \\mathbf{x}_{n+1} \\end{bmatrix} = \n",
    "\\begin{bmatrix}\n",
    "1 & 1 & 1 & \\cdots & 1 & 1 \\\\\n",
    "0 & 1 & 0 & \\cdots & 0 & 0 \\\\\n",
    "0 & 0 & 1 & \\cdots & 0 & 0 \\\\\n",
    "\\vdots & & & \\ddots & & \\vdots \\\\\n",
    "0 & 0 & 0 & \\cdots & 1 & 0 \\\\\n",
    "0 & 0 & 0 & \\cdots & 0 & 1\n",
    "\\end{bmatrix} \\in \\mathbb{R}^{(n+1) \\times (n+1)}\n",
    "$$\n",
    "- Show that $\\mathbf{X}$ is shattered by $\\mathcal{H}_n^{hs}$, that is, for any $y_1,\\ldots,y_{n+1} \\in \\{-1,1\\}$ you can find $\\boldsymbol\\theta$ such that $h_{\\boldsymbol\\theta}(\\mathbf{x}_i) = y_i$, $i=1,\\ldots,n+1$.\n",
    "\n",
    "_Hint: you can solve the system of linear equations $\\langle \\boldsymbol\\theta, \\mathbf{x}_i\\rangle = y_i$ exactly, so the $\\mathrm{sign}()$ function is not needed in this case._\n",
    "\n",
    "**Remark:** therefore, $\\text{VC-dim}(\\mathcal{H}_n^{hs}) \\ge n+1$. In fact, one can prove that $\\text{VC-dim}(\\mathcal{H}_n^{hs}) = n+1$."
   ]
  },
  {
   "cell_type": "markdown",
   "id": "9520d790",
   "metadata": {},
   "source": [
    "## Solution:\n",
    "Multiplying $\\boldsymbol\\theta$ with columns of $\\mathbf{X}$, we get\n",
    "\\begin{align*}\n",
    "\\langle \\boldsymbol\\theta, \\mathbf{x}_1\\rangle & = \\theta_1 & = y_{1\\phantom{+1}} \\\\\n",
    "\\langle \\boldsymbol\\theta, \\mathbf{x}_2\\rangle & = \\theta_1 + \\theta_2 & = y_{2\\phantom{+1}} \\\\\n",
    "& \\vdots \\\\\n",
    "\\langle \\boldsymbol\\theta, \\mathbf{x}_i\\rangle & = \\theta_1 + \\theta_{i} & = y_{i\\phantom{+1}} \\\\\n",
    "& \\vdots \\\\\n",
    "\\langle \\boldsymbol\\theta, \\mathbf{x}_{n+1}\\rangle & = \\theta_1 + \\theta_{n+1} & = y_{n+1}\n",
    "\\end{align*}\n",
    "We can resolve this letting $\\theta_1 = y_1$ and $\\theta_i = y_i - \\theta_1 = y_i - y_1$ for $i>1$ for any labels $y_1,\\ldots,y_{n+1}$. Since the output is exactly $1$ or $-1$, the $\\mathrm{sign}$ does not change it. By Definition 1.25, $\\mathbf{X}$ is shattered by $\\mathcal{H}_n^{hs}$."
   ]
  },
  {
   "cell_type": "markdown",
   "id": "71de4147",
   "metadata": {},
   "source": [
    "---"
   ]
  },
  {
   "cell_type": "markdown",
   "id": "628b7f73",
   "metadata": {},
   "source": [
    "## Task 1: PCA computation in Python\n",
    "The following code generates a dataset $X\\in\\mathbb{R}^{2 \\times m}$ of $m=20$ points where each $\\mathbf{x}_i$ is in the form $(x,x+y)^T$, where $x$ is chosen uniformly at random from $[-1,1]$, and $y$ is sampled from the normal distribution with mean zero and variance $0.01$."
   ]
  },
  {
   "cell_type": "code",
   "execution_count": 1,
   "id": "3a4725d6",
   "metadata": {},
   "outputs": [
    {
     "data": {
      "image/png": "[encoded data removed]",
      "text/plain": [
       "<Figure size 640x480 with 1 Axes>"
      ]
     },
     "metadata": {},
     "output_type": "display_data"
    }
   ],
   "source": [
    "import numpy as np\n",
    "from matplotlib import pyplot as plt\n",
    "X1 = np.random.uniform(low=-1, high=1, size=20)\n",
    "X2 = X1 + np.random.normal(scale=0.1, size=X1.size)\n",
    "X = np.vstack((X1,X2))\n",
    "plt.plot(X[0], X[1], '.')\n",
    "plt.show()"
   ]
  },
  {
   "cell_type": "markdown",
   "id": "2fbdb9c7",
   "metadata": {},
   "source": [
    "- Compute the PCA matrix $A = \\frac{1}{m}\\sum_{i=1}^{m} \\mathbf{x}_i \\mathbf{x}_i^\\top$. _Hint: you can avoid using a `for` loop._\n",
    "- Read about [`numpy.linalg.eigh`](https://numpy.org/doc/stable/reference/generated/numpy.linalg.eigh.html) and compute the eigenvector $\\mathbf{u}$ corresponding to the largest eigenvalue of $A$. Does it look close to the $\\mathbf{u}$ calculated in Task (b)?"
   ]
  },
  {
   "cell_type": "code",
   "execution_count": 2,
   "id": "537fa9b2",
   "metadata": {},
   "outputs": [
    {
     "name": "stdout",
     "output_type": "stream",
     "text": [
      "Eigenvector from noisy data: [0.67873371 0.73438447]\n",
      "Eigenvector from ideal data: [0.70710678 0.70710678]\n"
     ]
    }
   ],
   "source": [
    "A = (X @ X.T)/X.shape[1]\n",
    "Lambda, U = np.linalg.eigh(A)\n",
    "imax = np.argmax(Lambda)\n",
    "u = U[:,imax]\n",
    "print(\"Eigenvector from noisy data: \" + str(u) + \"\\n\" \n",
    "    + \"Eigenvector from ideal data: \" + str(np.ones(2)/np.sqrt(2)))"
   ]
  },
  {
   "cell_type": "markdown",
   "id": "49b08ec7",
   "metadata": {},
   "source": [
    "## Task 2: compression and recovery of data from PCA\n",
    "- Write a Python code to compress $\\mathbf{x}_i$ into $z_i = \\mathbf{u}^T \\mathbf{x}_i \\in \\mathbb{R}$, $i=1,\\ldots,m$. _(Again, you can use numpy facilities instead of a for loop)_\n",
    "- Write a Python code to reconstruct the approximate data $\\mathbf{\\tilde x}_i = \\mathbf{u} z_i$.\n",
    "- Plot both the original data $X = [\\mathbf{x}_1,\\ldots,\\mathbf{x}_m]$ (you can copy the code from Task 1) and the reconstructed data $\\tilde X = [\\mathbf{\\tilde x}_1,\\ldots,\\mathbf{\\tilde x}_m]$ **on the same plot**. How accurate is the reconstruction?"
   ]
  },
  {
   "cell_type": "code",
   "execution_count": 3,
   "id": "84cdd7b6",
   "metadata": {},
   "outputs": [
    {
     "data": {
      "image/png": "[encoded data removed]",
      "text/plain": [
       "<Figure size 640x480 with 1 Axes>"
      ]
     },
     "metadata": {},
     "output_type": "display_data"
    }
   ],
   "source": [
    "Z = u @ X\n",
    "Xtilde = np.reshape(u, (2,1)) @ np.reshape(Z, (1,-1))\n",
    "plt.plot(X[0], X[1], '.', Xtilde[0], Xtilde[1], '*')\n",
    "plt.legend(('original', 'reconstructed'))\n",
    "plt.show()"
   ]
  },
  {
   "cell_type": "code",
   "execution_count": null,
   "id": "1ee68204",
   "metadata": {},
   "outputs": [],
   "source": []
  }
 ],
 "metadata": {
  "kernelspec": {
   "display_name": "Python 3",
   "language": "python",
   "name": "python3"
  },
  "language_info": {
   "codemirror_mode": {
    "name": "ipython",
    "version": 3
   },
   "file_extension": ".py",
   "mimetype": "text/x-python",
   "name": "python",
   "nbconvert_exporter": "python",
   "pygments_lexer": "ipython3",
   "version": "3.10.0"
  }
 },
 "nbformat": 4,
 "nbformat_minor": 5
}
