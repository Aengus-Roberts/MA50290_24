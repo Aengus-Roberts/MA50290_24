{
 "cells": [
  {
   "cell_type": "markdown",
   "metadata": {},
   "source": [
    "# Problem Sheet 3"
   ]
  },
  {
   "cell_type": "markdown",
   "metadata": {},
   "source": [
    "## Bias-variance decomposition\n",
    "\n",
    "## Task (a) (Warm-up)\n",
    "Assume that $h_{\\theta}(x) = \\theta x$, and $(X,Y) \\sim \\mathbb{P}$, where $Y = \\theta^{true} X + \\xi$ for some fixed \"ground truth\" parameter $\\theta^{true} \\in \\mathbb{R}$, and $\\xi$ is a random variable independent of $X$ with $\\mathbb{E}[\\xi] = 0$ and $\\mathrm{Var}(\\xi)<\\infty$. Let the dataset $D=\\{(x_1,y_1),\\ldots,(x_m,y_m)\\}$ contain $m$ independent samples of $(X,Y)$. Assume quadratic pointwise loss, $\\ell(y,\\hat y) = (y-\\hat y)^2.$\n",
    "- Find the empirical risk minimizer $\\theta^* = \\arg\\min_{\\theta \\in \\mathbb{R}} L_{D}(\\theta)$.\n",
    "- Since data are sampled at random, the entire dataset $D$, and hence $\\theta^*$ which depends only on $D$, can be also seen as realisations of random variables $\\Delta$ and $\\Theta^*$, respectively. Let $\\mathbb{E}_{\\Delta}$ denote the expectation with respect to the distribution of $\\Delta$ only. Prove that $\\mathbb{E}_{\\Delta}[\\Theta^*] = \\theta^{true}$."
   ]
  },
  {
   "cell_type": "markdown",
   "metadata": {},
   "source": [
    "#### Solution:\n",
    "The first part is the already known differentiation,\n",
    "$$\n",
    "L_D(\\theta) = \\frac{1}{m} \\sum_{i=1}^{m} (\\theta x_i - y_i)^2 = \\frac{1}{m} \\sum_{i=1}^{m} (\\theta^2 x_i^2 - 2 \\theta x_i y_i + y_i^2)\n",
    "$$\n",
    "$$\n",
    "\\frac{dL_D}{d\\theta}(\\theta^*) = \\frac{2}{m} \\theta^* \\sum_{i=1}^m (x_i^2) - \\frac{2}{m} \\sum_{j=1}^m (x_j y_j) = 0\n",
    "$$\n",
    "$$\n",
    "\\theta^* = \\frac{\\sum_{j=1}^m x_j y_j}{\\sum_{i=1}^m x_i^2} = \\frac{\\sum_{j=1}^m x_j^2 \\theta^{true} + x_j \\xi_j}{\\sum_{i=1}^m x_i^2} = \\theta^{true} + \\sum_{j=1}^{m} \\frac{x_j}{\\sum_{i=1}^{m} x_i^2} \\xi_j.\n",
    "$$\n",
    "For the second part, we turn $x_j$ and $\\xi_j$ from $D$ into random variables from $\\Delta$,\n",
    "$$\n",
    "\\Theta^* = \\theta^{true} + \\sum_{j=1}^{m} \\frac{X_j}{\\sum_{i=1}^{m} X_i^2} \\xi_j.\n",
    "$$\n",
    "Now since $X$ and $\\xi$ are independent, so are $X_j$ and $\\xi_j$, and we also have $\\mathbb{E}_{\\Delta}[\\xi_j] = 0$. Thus,\n",
    "$$\n",
    "\\mathbb{E}_{\\Delta}[\\Theta^*] = \\theta^{true} + \\sum_{j=1}^{m}\\mathbb{E}_{\\Delta}\\left[\\frac{X_j}{\\sum_{i=1}^{m} X_i^2} \\cdot \\xi_j\\right] = \\theta^{true} + \\sum_{j=1}^m \\mathbb{E}_{\\Delta}\\left[\\frac{X_j}{\\sum_{i=1}^{m} X_i^2}\\right] \\cdot \\underbrace{\\mathbb{E}_{\\Delta}\\left[\\xi_j\\right]}_{=0} = \\theta^{true}.\n",
    "$$"
   ]
  },
  {
   "cell_type": "markdown",
   "metadata": {},
   "source": [
    "## Task (b)\n",
    "- In the assumptions of Task (a), **prove** that $\\theta^{best} = \\theta^{true}$, where $\\theta^{best} = \\mathbb{E}[XY]/\\mathbb{E}[X^2]$ is the expected risk minimizer from Task (a) of Problem Sheet 2.\n",
    "- Hence prove that $L_{bias} = L(\\mathbb{E}_{\\Delta}[\\Theta^*])$"
   ]
  },
  {
   "cell_type": "markdown",
   "metadata": {},
   "source": [
    "#### Solution\n",
    "$$\n",
    "\\mathbb{E}[XY] = \\mathbb{E}[X^2 \\theta^{true} + X \\xi] = \\mathbb{E}[X^2] \\theta^{true}\n",
    "$$\n",
    "by independence of $X$ and $\\xi$, and the result follows. \n",
    "For the second part, $L_{bias} = \\min_{\\theta \\in \\mathbb{R}} L(\\theta) = L(\\theta^{best})$ by definition of $\\theta^{best}$, but $\\theta^{best} = \\theta^{true} = \\mathbb{E}_{\\Delta}[\\Theta^*]$ by Task (a)."
   ]
  },
  {
   "cell_type": "markdown",
   "metadata": {},
   "source": [
    "## Task (c): why the variance loss is a variance\n",
    "- In the assumptions of Task (a), **prove** that $\\mathbb{E}_{\\Delta} [L_{var}(\\Theta^*)] = \\mathrm{Var}_{\\Delta}[\\Theta^*] \\mathbb{E}[X^2]$, where $\\mathrm{Var}_{\\Delta}$ is the variance with respect to the distribution of $\\Delta$.\n",
    "\n",
    "_Hint: start with adding and subtracting_ $\\mathbb{E}_{\\Delta}[\\Theta^*]X$ under the loss, \n",
    "$$\n",
    "L_{var}(\\Theta^*) + L_{bias} = L(\\Theta^*) = \\mathbb{E}[(\\Theta^* X - Y)^2] = \\mathbb{E}[((\\Theta^* X - \\mathbb{E}_{\\Delta}[\\Theta^*]X) + (\\mathbb{E}_{\\Delta}[\\Theta^*]X - Y))^2],\n",
    "$$\n",
    "_expand the square under the expectation, and finally take_ $\\mathbb{E}_{\\Delta}$ _of everything. Note that_ **precomputed** $\\Delta$ _is independent of_ **new** $(X,Y)$."
   ]
  },
  {
   "cell_type": "markdown",
   "metadata": {},
   "source": [
    "#### Solution:\n",
    "We can replace $\\mathbb{E}_{\\Delta}[\\Theta^*] = \\theta^{best}$, which allows us to separate into products involving independent $\\Theta^*$ and $X$,\n",
    "$$\n",
    "L(\\Theta^*) = (\\Theta^* - \\theta^{best})^2\\mathbb{E}[X^2] + 2 (\\Theta^* - \\theta^{best}) \\mathbb{E}[X (\\Theta^{best} X - Y)] + L_{bias}.\n",
    "$$\n",
    "Taking the expectation over $\\Delta$, we get $\\mathbb{E}_{\\Delta}[\\Theta^* - \\theta^{best}] = \\mathbb{E}_{\\Delta}[\\Theta^* - \\mathbb{E}_{\\Delta}[\\Theta^*]] = 0$ and $\\mathbb{E}_{\\Delta}[(\\Theta^* - \\theta^{best})^2] = \\mathrm{Var}_{\\Delta}[\\Theta^*]$. Subtracting $L_{bias}$ from $\\mathbb{E}_{\\Delta}[L(\\Theta^*)]$, we get the result."
   ]
  },
  {
   "cell_type": "markdown",
   "metadata": {},
   "source": [
    "---"
   ]
  },
  {
   "cell_type": "markdown",
   "metadata": {},
   "source": [
    "## Task 0: simulating the \"true\" distribution\n",
    "- **Copy** over the solution of Task 1 of Problem Sheet 2 (generation of synthetic data)."
   ]
  },
  {
   "cell_type": "code",
   "execution_count": 1,
   "metadata": {},
   "outputs": [
    {
     "data": {
      "image/png": "[encoded data removed]",
      "text/plain": [
       "<Figure size 432x288 with 1 Axes>"
      ]
     },
     "metadata": {
      "needs_background": "light"
     },
     "output_type": "display_data"
    }
   ],
   "source": [
    "import numpy as np\n",
    "from matplotlib import pyplot as plt    \n",
    "\n",
    "def TrueSample():\n",
    "    x = np.random.uniform(-1,1)\n",
    "    y = x - x**3 + 0.1*np.random.randn()\n",
    "    return x,y\n",
    "\n",
    "Nsamples = 30\n",
    "Y = np.zeros(Nsamples)\n",
    "X = np.zeros(Nsamples)\n",
    "for i in range(Y.size):\n",
    "    X[i],Y[i] = TrueSample()\n",
    "\n",
    "plt.plot(X,Y, '.')\n",
    "plt.show()"
   ]
  },
  {
   "cell_type": "markdown",
   "metadata": {},
   "source": [
    "## Task 1: K-fold cross validation\n",
    "- **Copy** over functions `features`, `optimise_loss` and `split_data` from Problem Sheet 2.\n",
    "- **Write a Python function** `cv(X,Y,K,n)` that takes as input arrays X and Y, the number of folds K, and the polynomial degree n, and computes the cross validation loss as follows:\n",
    " - create an integer array `ind` containing a random shuffle of the $0,\\ldots,N-1$ index sequence, where $N$ is the size of X and Y.\n",
    " - for each $k=0,\\ldots,K-1$,\n",
    "   - let $X_{train}, Y_{train}, X_{test},Y_{test}$ be training and test arrays produced from `split_data` with K folds applied to shuffled arrays `X[ind]`, `Y[ind]`, such that $X_{test},Y_{test}$ are the $k$-th chunks of `X[ind]`, `Y[ind]`, respectively.\n",
    "   - compute $\\boldsymbol\\theta^{(k)} = \\arg\\min_{\\boldsymbol\\theta\\in\\mathbb{R}^{n+1}}L_{D_{train}}(\\boldsymbol\\theta)$ using `features` to compute the Vandermonde matrix, and `optimise_loss` to solve the equations, defined by $D_{train} = (X_{train}, Y_{train})$.\n",
    "   - compute the $k$-th test loss $L_k:=L_{D_{test}^{(k)}}(\\boldsymbol\\theta^{(k)})$, where $D_{test}^{(k)}:=(X_{test},Y_{test})$.\n",
    " - Return the cross validation loss $L_{cv} = \\frac{1}{K} \\sum_{k=0}^{K-1}L_k$   "
   ]
  },
  {
   "cell_type": "code",
   "execution_count": 2,
   "metadata": {},
   "outputs": [],
   "source": [
    "def features(x,n):\n",
    "    powers = np.arange(n+1)               # [0,1,2,...,n]\n",
    "    powers = np.reshape(powers, (1, -1))  # Make it explicitly a row vector\n",
    "    x = np.reshape(x, (-1, 1))            # Make it explicitly a column vector\n",
    "    return x**powers                      # Python automatically broadcasts the vectors to each others' shapes \n",
    "                                          # and takes the power between the resulting matrices elementwise\n",
    "\n",
    "def optimise_loss(V,y):\n",
    "    return np.linalg.solve(V.T @ V, V.T @ y)\n",
    "\n",
    "def split_data(X,Y,K,k):\n",
    "    N = X.shape[0]\n",
    "    test_range = range(k*N//K, (k+1)*N//K)\n",
    "    Xtest = X[test_range]\n",
    "    Xtrain = np.delete(X, test_range)\n",
    "    Ytest = Y[test_range]\n",
    "    Ytrain = np.delete(Y, test_range)\n",
    "    return Xtrain, Ytrain, Xtest, Ytest\n",
    "\n",
    "def cv(X,Y,K,n):\n",
    "    ind = np.arange(X.size)\n",
    "    np.random.shuffle(ind)\n",
    "    L = np.zeros(K)\n",
    "    for k in range(K):\n",
    "        Xtrain,Ytrain,Xtest,Ytest = split_data(X[ind],Y[ind],K,k)\n",
    "        V = features(Xtrain, n)\n",
    "        theta_k = optimise_loss(V, Ytrain)\n",
    "        V = features(Xtest, n)\n",
    "        L[k] = np.mean((V @ theta_k - Ytest)**2)\n",
    "    return np.mean(L)"
   ]
  },
  {
   "cell_type": "markdown",
   "metadata": {},
   "source": [
    "## Task 2: model selection\n",
    "- **Vary** $n$ from 0 to 8 and **plot** the $5$-fold cross validation loss for datasets created in Task 0 as a function of $n$.\n",
    "- **Find** which value of $n$ gives the smallest cross validation loss. Can we expect this value if we know how the datasets were produced in Task 0?"
   ]
  },
  {
   "cell_type": "code",
   "execution_count": 3,
   "metadata": {},
   "outputs": [
    {
     "data": {
      "image/png": "[encoded data removed]",
      "text/plain": [
       "<Figure size 432x288 with 1 Axes>"
      ]
     },
     "metadata": {
      "needs_background": "light"
     },
     "output_type": "display_data"
    }
   ],
   "source": [
    "for Nsamples in [300]:\n",
    "    Y = np.zeros(Nsamples)\n",
    "    X = np.zeros(Nsamples)\n",
    "    for i in range(Y.size):\n",
    "        X[i],Y[i] = TrueSample()\n",
    "\n",
    "    cvlosses = np.zeros(9)\n",
    "    for n in range(cvlosses.size):\n",
    "        cvlosses[n] = cv(X, Y, 5, n)\n",
    "    plt.plot(np.arange(cvlosses.size), cvlosses, '.-')\n",
    "    plt.xlabel(\"n\")\n",
    "    plt.title(f\"5-fold CV loss, min={np.min(cvlosses):.2e} at n={np.argmin(cvlosses)} with m={Nsamples}\")\n",
    "    plt.show()"
   ]
  },
  {
   "cell_type": "markdown",
   "metadata": {},
   "source": [
    "## Task 3: convergence of the cross validation loss\n",
    "- **Vary** the number of samples in Task 0 in a range 30, 100, 300, 1000, 3000, and for each corresponding realisation of X and Y repeat the cross validation loss plotting in Task 2. What you observe as the number of samples gets larger?"
   ]
  },
  {
   "cell_type": "markdown",
   "metadata": {},
   "source": [
    "#### Solution:\n",
    "The CV loss should converge to values as above. Specifically, since the noiseless prediction rule is a cubic polynomial, the CV loss should reach the value of about 0.01 for any $n\\ge 3$. The value of 0.01 is the variance of the noise $\\frac{1}{10} \\xi$, which is also the minimal expected loss $L_{bias}$ for $n \\ge 3$."
   ]
  }
 ],
 "metadata": {
  "kernelspec": {
   "display_name": "base",
   "language": "python",
   "name": "python3"
  },
  "language_info": {
   "codemirror_mode": {
    "name": "ipython",
    "version": 3
   },
   "file_extension": ".py",
   "mimetype": "text/x-python",
   "name": "python",
   "nbconvert_exporter": "python",
   "pygments_lexer": "ipython3",
   "version": "3.7.16"
  }
 },
 "nbformat": 4,
 "nbformat_minor": 2
}
